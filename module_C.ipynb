{
  "nbformat": 4,
  "nbformat_minor": 0,
  "metadata": {
    "kernelspec": {
      "display_name": "Python 3",
      "language": "python",
      "name": "python3"
    },
    "language_info": {
      "codemirror_mode": {
        "name": "ipython",
        "version": 3
      },
      "file_extension": ".py",
      "mimetype": "text/x-python",
      "name": "python",
      "nbconvert_exporter": "python",
      "pygments_lexer": "ipython3",
      "version": "3.6.5"
    },
    "colab": {
      "name": "module-C.ipynb",
      "provenance": [],
      "collapsed_sections": [],
      "include_colab_link": true
    }
  },
  "cells": [
    {
      "cell_type": "markdown",
      "metadata": {
        "id": "view-in-github",
        "colab_type": "text"
      },
      "source": [
        "<a href=\"https://colab.research.google.com/github/princepeak/sharing-truth/blob/master/module_C.ipynb\" target=\"_parent\"><img src=\"https://colab.research.google.com/assets/colab-badge.svg\" alt=\"Open In Colab\"/></a>"
      ]
    },
    {
      "cell_type": "markdown",
      "metadata": {
        "id": "yM4k9HbhAUD3"
      },
      "source": [
        "## Module submission header\n",
        "### Submission preparation instructions \n",
        "_Completion of this header is mandatory, subject to a 2-point deduction to the assignment._ Only add plain text in the designated areas, i.e., replacing the relevant 'NA's. You must fill out all group member Names and Drexel email addresses in the below markdown list, under header __Module submission group__. It is required to fill out descriptive notes pertaining to any tutoring support received in the completion of this submission under the __Additional submission comments__ section at the bottom of the header. If no tutoring support was received, leave NA in place. You may as well list other optional comments pertaining to the submission at bottom. _Any distruption of this header's formatting will make your group liable to the 2-point deduction._\n",
        "\n",
        "### Module submission group\n",
        "- Group member 1\n",
        "    - Name: NA\n",
        "    - Email: NA\n",
        "- Group member 2\n",
        "    - Name: NA\n",
        "    - Email: NA\n",
        "- Group member 3\n",
        "    - Name: NA\n",
        "    - Email: NA\n",
        "- Group member 4\n",
        "    - Name: NA\n",
        "    - Email: NA\n",
        "\n",
        "### Additional submission comments\n",
        "- Tutoring support received: NA\n",
        "- Other (other): NA"
      ]
    },
    {
      "cell_type": "markdown",
      "metadata": {
        "id": "s9mxmg6EAUD5"
      },
      "source": [
        "# Assignment Group 1"
      ]
    },
    {
      "cell_type": "markdown",
      "metadata": {
        "id": "1WFPmLAWAUD6"
      },
      "source": [
        "## Problem C _(50 points)_\n",
        "\n",
        "This problem deals with finding \"pangrams\" in text. A pangram is a sentence containing all 26 letters of the alphabet. `x` and `y` in the cell below are example sentences, `x` is a pangram, `y` is not."
      ]
    },
    {
      "cell_type": "code",
      "metadata": {
        "id": "ybSsKr1XAUD7"
      },
      "source": [
        "x = \"Jim quickly realized that the beautiful gowns are expensive.\"\n",
        "y = \"This sentence is most certainly not a pangram.\"\n"
      ],
      "execution_count": 39,
      "outputs": []
    },
    {
      "cell_type": "markdown",
      "metadata": {
        "id": "gWxJfUpYAUEB"
      },
      "source": [
        "__C1.__ _(5 points)_ Define a generator function, `indices()`, that takes a string as input and outputs the index numbers where a letter occurs for the first time in the string. [__Hint:__ you can compare letters like numbers. For example, `char >= \"a\"` is a valid conditional statement. You can use this to check whether characters in a string are letters.] "
      ]
    },
    {
      "cell_type": "code",
      "metadata": {
        "id": "yD05w-QNAUEC"
      },
      "source": [
        "def indices(str_input):    #takes a string as input and outputs the index numbers where a letter occurs for the first time in the string\n",
        "  str_lower = str_input.lower()   #covert the input string into a all-lowercase string\n",
        "  exist_alphabet = [0] * 26    #index list indicating existence of each of the 26 letters\n",
        "  for i in range(0, len(str_lower)):  #check only the characters in the input string that is is one of the alphabet characters\n",
        "    if str_lower[i] >= 'a' and str_lower[i] <= 'z':\n",
        "      for j in range(0, 26):  #compare the current character in the input string with a non-occurred character in alphabet sequence\n",
        "        if exist_alphabet[j] == 0 and chr(97 + j) == str_lower[i]:\n",
        "          exist_alphabet[j] = 1   # 1-letter occurred; 0-letter not occurred\n",
        "  return exist_alphabet\n"
      ],
      "execution_count": 32,
      "outputs": []
    },
    {
      "cell_type": "markdown",
      "metadata": {
        "id": "jnc8HvskAUEF"
      },
      "source": [
        "__C2.__ _(3 points)_ Define a function, `verify()`, that takes a string as input and uses the `indices()` function to check if the string is a pangram. The output should be boolean `True` or `False`. "
      ]
    },
    {
      "cell_type": "code",
      "metadata": {
        "id": "sueLX0rPAUEF"
      },
      "source": [
        "def verify(str_input):\n",
        "  exist_check = indices(str_input)\n",
        "  return sum(exist_check) == 26\n"
      ],
      "execution_count": 10,
      "outputs": []
    },
    {
      "cell_type": "markdown",
      "metadata": {
        "id": "rCpfYlKuAUEI"
      },
      "source": [
        "__C3:__ _(2 points)_ Write a version of `verify()` named `tiny_verify()` that performs the check in a single line of code, without using `indices()`. [__Hint:__ Use a comprehension.] "
      ]
    },
    {
      "cell_type": "code",
      "metadata": {
        "id": "Km6bulkqAUEJ",
        "outputId": "3131385a-7335-42e5-eeff-edbf1caeef68",
        "colab": {
          "base_uri": "https://localhost:8080/",
          "height": 35
        }
      },
      "source": [
        "def tiny_verify(str_input): return sum([chr(97 + j) in str_input or chr(65 + j) in str_input for j in range(26)]) == 26\n"
      ],
      "execution_count": 28,
      "outputs": [
        {
          "output_type": "execute_result",
          "data": {
            "text/plain": [
              "False"
            ]
          },
          "metadata": {
            "tags": []
          },
          "execution_count": 28
        }
      ]
    },
    {
      "cell_type": "markdown",
      "metadata": {
        "id": "hVK0rtlNAUEM"
      },
      "source": [
        "__C4.__ _(5 points)_ Modify the `verify()` function to figure out which letters (if any) are missing from a purported pangram. This version should return the list of missing letters instead of a boolean value. [__Hint:__ You can get a string containing all the letters of the alphabet by importing `ascii_lowercase` from the `string` module.] "
      ]
    },
    {
      "cell_type": "code",
      "metadata": {
        "id": "dN364UljAUEN",
        "outputId": "b745a053-a614-42e8-adaa-b0e886b03b81",
        "colab": {
          "base_uri": "https://localhost:8080/",
          "height": 35
        }
      },
      "source": [
        "def verify(str_input):  #Modify the verify() function to figure out which letters (if any) are missing from a purported pangram \n",
        "  import string   #import the \"string\" library to use its method of ascii_lowercase \n",
        "  alphabet_full = string.ascii_lowercase\n",
        "\n",
        "  exist_check = indices(str_input)\n",
        "  non_exist = [(exist_check[i] == 0) * alphabet_full[i] for i in range(26) if exist_check[i] == 0]\n",
        "  #non_exist_check = [j == 0 for j in exist_check]   #obtain the index of non-exist characters\n",
        "  #print(exist_check)\n",
        "  #print(non_exist_check)\n",
        "  #non_exist = [non_exist_check[i] * alphabet_full[i] for i in range(26) if non_exist_check[i] == 1]\n",
        "  return non_exist\n",
        "  "
      ],
      "execution_count": 46,
      "outputs": [
        {
          "output_type": "execute_result",
          "data": {
            "text/plain": [
              "['b', 'd', 'f', 'j', 'k', 'q', 'u', 'v', 'w', 'x', 'z']"
            ]
          },
          "metadata": {
            "tags": []
          },
          "execution_count": 46
        }
      ]
    },
    {
      "cell_type": "markdown",
      "metadata": {
        "id": "jF5qHUlTAUEQ"
      },
      "source": [
        "__C5.__ _(5 points)_ Load and iterate through the collected [list of pangrams](http://clagnut.com/blog/2380/) in `data/pangrams.txt` line by line and determine if they are actually pangrams. Print out any lines that are not actually pangrams, and also the letters that are missing. "
      ]
    },
    {
      "cell_type": "code",
      "metadata": {
        "id": "loSx04N_AUER"
      },
      "source": [
        ""
      ],
      "execution_count": null,
      "outputs": []
    },
    {
      "cell_type": "markdown",
      "metadata": {
        "id": "1YZc2t3EAUEW"
      },
      "source": [
        "__C6:__ _(3 points)_ Use the output from the `verify()` function to fix (by any means necessary) the failed pangrams, and verify that you have fixed them. "
      ]
    },
    {
      "cell_type": "code",
      "metadata": {
        "id": "NdHHOvO4AUEW"
      },
      "source": [
        ""
      ],
      "execution_count": null,
      "outputs": []
    },
    {
      "cell_type": "markdown",
      "metadata": {
        "id": "Tyil4UJ-AUEZ"
      },
      "source": [
        "__C7.__ _(5 points)_ In the cell below are provided some information about a set of books. Create a data object that holds the book numbers and titles associated to each authors's name. Write this out as a JSON file in the `data/books/` directory using the following schema. \n",
        "\n",
        "```\n",
        "books = {\n",
        "    AuthorName: {\n",
        "        BookNumber: BookTitle,\n",
        "        ...\n",
        "    },\n",
        "    ...\n",
        "}\n",
        "```"
      ]
    },
    {
      "cell_type": "code",
      "metadata": {
        "id": "iyOLzvUQAUEZ"
      },
      "source": [
        "# 84.txt; Frankenstein, or the Modern Prometheus; Mary Wollstonecraft (Godwin) Shelley\n",
        "# 98.txt; A Tale of Two Cities; Charles Dickens \n",
        "# 161.txt; Sense and Sensibility; Jane Austen\n",
        "# 730.txt; Oliver Twist or the Parish Boy's Progress; Charles Dickens\n",
        "# 768.txt; Wuthering Heights; Emily Brontë\n",
        "# 1322.txt; Leaves of Grass; Walt Whitman\n",
        "# 1342.txt; Pride and Prejudice; Jane Austen\n",
        "# 1400.txt; Great Expectations; Charles Dickens\n",
        "# 2701.txt; Moby Dick; or the Whale; Herman Melville\n",
        "# 4300.txt; Ulysses; James Joyce"
      ],
      "execution_count": null,
      "outputs": []
    },
    {
      "cell_type": "code",
      "metadata": {
        "id": "weLqr7jrAUEc"
      },
      "source": [
        ""
      ],
      "execution_count": null,
      "outputs": []
    },
    {
      "cell_type": "markdown",
      "metadata": {
        "id": "G32QUITiAUEf"
      },
      "source": [
        "__C8.__ _(7 points)_ Write a function, `get_pangrams()`, that takes a book number and outputs a list of the book's pangram sentences and the total number of sentences in the book. You will need to use the `re` (regular expressions) module to split the book text into sentences using the `re.split(pattern, string)` function. The pattern you will need is `\"[\\.\\?\\!][^a-zA-Z]\"`. "
      ]
    },
    {
      "cell_type": "code",
      "metadata": {
        "id": "EjplMo2cAUEf"
      },
      "source": [
        ""
      ],
      "execution_count": null,
      "outputs": []
    },
    {
      "cell_type": "markdown",
      "metadata": {
        "id": "Phz_3E5DAUEj"
      },
      "source": [
        "__C9.__ _(8 points)_ Determine who is the pangrammiest author and what the pangrammiest book is, as determined by most pangrams per sentence. [__Hint:__ Use `defaultdict`s to create \"pangrams by author\" and \"pangrams by book\" objects.] "
      ]
    },
    {
      "cell_type": "code",
      "metadata": {
        "id": "Akk4sSSiAUEk"
      },
      "source": [
        ""
      ],
      "execution_count": null,
      "outputs": []
    },
    {
      "cell_type": "markdown",
      "metadata": {
        "id": "Y9Rrs1LAAUEm"
      },
      "source": [
        "__C10.__ _(7 points)_ Print out the most efficient pangram and its author and book, as determined by fewest characters per pangram. "
      ]
    },
    {
      "cell_type": "code",
      "metadata": {
        "id": "Hb7sUL0IAUEn"
      },
      "source": [
        ""
      ],
      "execution_count": null,
      "outputs": []
    }
  ]
}